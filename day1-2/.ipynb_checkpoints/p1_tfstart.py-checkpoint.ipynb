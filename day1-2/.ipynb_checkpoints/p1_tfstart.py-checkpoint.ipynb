{
 "cells": [
  {
   "cell_type": "code",
   "execution_count": 1,
   "metadata": {},
   "outputs": [
    {
     "name": "stderr",
     "output_type": "stream",
     "text": [
      "C:\\Users\\KNatarajan\\Anaconda3\\envs\\tensorflow\\lib\\site-packages\\h5py\\__init__.py:36: FutureWarning: Conversion of the second argument of issubdtype from `float` to `np.floating` is deprecated. In future, it will be treated as `np.float64 == np.dtype(float).type`.\n",
      "  from ._conv import register_converters as _register_converters\n"
     ]
    }
   ],
   "source": [
    "import tensorflow as tf\n"
   ]
  },
  {
   "cell_type": "code",
   "execution_count": 4,
   "metadata": {},
   "outputs": [
    {
     "name": "stdout",
     "output_type": "stream",
     "text": [
      "Hello, World!!\n"
     ]
    }
   ],
   "source": [
    "#Build phase\n",
    "msg = tf.constant('Hello, World!!')\n",
    "sess = tf.Session() #create a session\n",
    "#print(msg)\n",
    "#print(sess.run(msg)) #returns a byte array\n",
    "print(sess.run(msg).decode())\n"
   ]
  },
  {
   "cell_type": "code",
   "execution_count": 5,
   "metadata": {},
   "outputs": [
    {
     "name": "stdout",
     "output_type": "stream",
     "text": [
      "Sum is: 8\n"
     ]
    }
   ],
   "source": [
    "#To add two numbers\n",
    "a = tf.constant(5)\n",
    "b = tf.constant(3)\n",
    "res = tf.add(a, b)\n",
    "\n",
    "print(\"Sum is:\", sess.run(res))"
   ]
  },
  {
   "cell_type": "code",
   "execution_count": 9,
   "metadata": {},
   "outputs": [
    {
     "name": "stdout",
     "output_type": "stream",
     "text": [
      "8\n",
      "64\n",
      "4096\n"
     ]
    }
   ],
   "source": [
    "#[(5 + 3) * 8] ** 2\n",
    "#First way, session has to be closed explicitly else the session would not release the resources after execution.\n",
    "n1 = tf.constant(5)\n",
    "n2 = tf.constant(3)\n",
    "n3 = tf.constant(8)\n",
    "n4 = tf.constant(2)\n",
    "\n",
    "res1 = tf.add(n1, n2)\n",
    "res2 = tf.multiply(res1, n3)\n",
    "res3 = tf.pow(res2, n4)\n",
    "print(sess.run(res1))\n",
    "print(sess.run(res2))\n",
    "print(sess.run(res3))"
   ]
  },
  {
   "cell_type": "code",
   "execution_count": 11,
   "metadata": {},
   "outputs": [
    {
     "name": "stdout",
     "output_type": "stream",
     "text": [
      "b'Hello, World!!'\n",
      "4096\n"
     ]
    }
   ],
   "source": [
    "#second way\n",
    "#Need not say sess.run() every time\n",
    "#Also session closes by itself when the block exits\n",
    "with tf.Session() as sess:\n",
    "    print(msg.eval())\n",
    "    print(res3.eval())"
   ]
  },
  {
   "cell_type": "code",
   "execution_count": 13,
   "metadata": {},
   "outputs": [
    {
     "name": "stdout",
     "output_type": "stream",
     "text": [
      "4096\n"
     ]
    }
   ],
   "source": [
    "#Third way\n",
    "#Interactive session: Can still use eval but Session has to be closed explicitly\n",
    "sess1 = tf.InteractiveSession()\n",
    "print(res3.eval())\n",
    "sess1.close()"
   ]
  },
  {
   "cell_type": "code",
   "execution_count": null,
   "metadata": {},
   "outputs": [],
   "source": []
  }
 ],
 "metadata": {
  "kernelspec": {
   "display_name": "Python 3",
   "language": "python",
   "name": "python3"
  },
  "language_info": {
   "codemirror_mode": {
    "name": "ipython",
    "version": 3
   },
   "file_extension": ".py",
   "mimetype": "text/x-python",
   "name": "python",
   "nbconvert_exporter": "python",
   "pygments_lexer": "ipython3",
   "version": "3.6.3"
  }
 },
 "nbformat": 4,
 "nbformat_minor": 2
}
