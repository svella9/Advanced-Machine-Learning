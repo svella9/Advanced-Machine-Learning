{
 "cells": [
  {
   "cell_type": "code",
   "execution_count": 2,
   "metadata": {},
   "outputs": [],
   "source": [
    "import csv\n",
    "import numpy as np\n",
    "import tensorflow as tf"
   ]
  },
  {
   "cell_type": "code",
   "execution_count": 7,
   "metadata": {},
   "outputs": [
    {
     "name": "stdout",
     "output_type": "stream",
     "text": [
      "[['3.385', '4.5'], ['0.48', '5.5'], ['1.35', '8.1'], ['5', '3'], ['6.33', '9.5'], ['7.66', '5'], ['4.83', '8.2'], ['1.04', '5.5'], ['4.19', '5'], ['0.425', '1.4'], ['0.101', '4'], ['3.92', '5.7'], ['1', '6.6'], ['0.005', '0.14'], ['0.06', '1'], ['3.5', '4.8'], ['2', '2.3'], ['1.7', '6.3'], ['2', '3'], ['0.023', '0.3'], ['5.1', '4'], ['5', '6'], ['0.785', '2.5'], ['1', '1.1'], ['3.3', '2.6'], ['0.2', '5'], ['1.41', '1.5'], ['6', '5'], ['7', '6'], ['8', '5'], ['0.75', '4.3'], ['6', '4'], ['6', '5'], ['3.5', '3.9'], ['6.8', '7'], ['5', '6'], ['4.05', '7'], ['0.12', '1'], ['0.023', '0.4'], ['0.01', '0.25'], ['1.4', '4.5'], ['2.566', '5.33'], ['2.5', '4.1'], ['5.5', '7'], ['4', '1'], ['2.16', '4'], ['4.55', '6.5'], ['1.55', '5.4'], ['7', '8'], ['3.6', '2'], ['4.288', '3.2'], ['0.28', '1.9'], ['0.75', '1.2'], ['0.122', '3'], ['0.48', '0.33'], ['3', '5.885'], ['3', '5'], ['5.788', '7.333'], ['0.9', '2.6'], ['1.62', '4.4'], ['0.104', '2.5'], ['4.235', '5.4'], ['2.3', '4.4'], ['1.3', '2.1'], ['0.5', '0.7'], ['0.2', '0.4'], ['4.2', '5.2'], ['2.44', '3.55'], ['1.98', '4.45'], ['0.98', ' 1.2'], ['0.2', ' 0.34'], ['3.44', ' 2.4'], ['4.5', ' 3.02'], ['3.56', ' 5.99'], ['3', '4']]\n"
     ]
    }
   ],
   "source": [
    "data = list(csv.reader(open(\"LR.csv\")))\n",
    "npdata = np.array(data)\n",
    "floatdata = npdata.astype(np.float)\n",
    "train_x = tf.constant(floatdata[:, 0])\n",
    "train_y = tf.constant(floatdata[:, 1])\n",
    "\n",
    "with tf.Session() as sess:\n",
    "    print(sess.run([train_x, train_y]))"
   ]
  },
  {
   "cell_type": "code",
   "execution_count": null,
   "metadata": {},
   "outputs": [],
   "source": []
  }
 ],
 "metadata": {
  "kernelspec": {
   "display_name": "Python 3",
   "language": "python",
   "name": "python3"
  },
  "language_info": {
   "codemirror_mode": {
    "name": "ipython",
    "version": 3
   },
   "file_extension": ".py",
   "mimetype": "text/x-python",
   "name": "python",
   "nbconvert_exporter": "python",
   "pygments_lexer": "ipython3",
   "version": "3.6.3"
  }
 },
 "nbformat": 4,
 "nbformat_minor": 2
}
