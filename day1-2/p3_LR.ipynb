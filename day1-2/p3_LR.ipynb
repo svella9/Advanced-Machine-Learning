{
 "cells": [
  {
   "cell_type": "code",
   "execution_count": 1,
   "metadata": {},
   "outputs": [
    {
     "name": "stderr",
     "output_type": "stream",
     "text": [
      "C:\\Users\\KNatarajan\\Anaconda3\\envs\\tensorflow\\lib\\site-packages\\h5py\\__init__.py:36: FutureWarning: Conversion of the second argument of issubdtype from `float` to `np.floating` is deprecated. In future, it will be treated as `np.float64 == np.dtype(float).type`.\n",
      "  from ._conv import register_converters as _register_converters\n"
     ]
    }
   ],
   "source": [
    "import csv\n",
    "import numpy as np\n",
    "import tensorflow as tf\n",
    "import matplotlib.pyplot as plt"
   ]
  },
  {
   "cell_type": "code",
   "execution_count": 2,
   "metadata": {},
   "outputs": [
    {
     "data": {
      "image/png": "[encoded data removed]",
      "text/plain": [
       "<matplotlib.figure.Figure at 0xd0b523a2e8>"
      ]
     },
     "metadata": {},
     "output_type": "display_data"
    }
   ],
   "source": [
    "data = list(csv.reader(open(\"LR.csv\")))\n",
    "npdata = np.array(data)\n",
    "floatdata = npdata.astype(np.float)\n",
    "train_x = tf.constant(floatdata[:, 0])\n",
    "train_y = tf.constant(floatdata[:, 1])\n",
    "\n",
    "with tf.Session() as sess:\n",
    "#    print(sess.run([train_x, train_y]))\n",
    "    plt.plot(train_x.eval(), train_y.eval(), \"ro\", label = \"data\")\n",
    "    plt.show()\n"
   ]
  },
  {
   "cell_type": "code",
   "execution_count": null,
   "metadata": {},
   "outputs": [
    {
     "name": "stdout",
     "output_type": "stream",
     "text": [
      "Epoch:  0 Weight: 0.45061556 bias: 1.0001885 cost 3.100423\n",
      "Epoch:  100 Weight: 0.5078479 bias: 1.0180576 cost 2.776318\n"
     ]
    }
   ],
   "source": [
    "#Regression: y = wx + b\n",
    "#define w and b\n",
    "w = tf.Variable(0.45, name = \"weight\")\n",
    "b = tf.Variable(1.0, name = \"bias\")\n",
    "\n",
    "#define parameters\n",
    "n_samples = len(floatdata[:,0])\n",
    "learning_rate = 0.0001\n",
    "epochs = 1000\n",
    "display_epoch = 100\n",
    "\n",
    "\n",
    "X = tf.placeholder(tf.float32)\n",
    "Y = tf.placeholder(tf.float32)\n",
    "\n",
    "pred = tf.add(tf.multiply(w, X), b)\n",
    "cost = tf.reduce_sum(tf.pow(Y - pred, 2.0)) * 1.0/(2 * n_samples) #Mean error E = (1/2n) summation(td - od)**2\n",
    "opt = tf.train.MomentumOptimizer(momentum = 0.1, learning_rate = learning_rate).minimize(cost)\n",
    "\n",
    "init = tf.global_variables_initializer()\n",
    "\n",
    "with tf.Session() as sess:\n",
    "    xx = sess.run(train_x)\n",
    "    yy = sess.run(train_y)\n",
    "    sess.run(init)\n",
    "    \n",
    "    #start training\n",
    "    for i in range(epochs):\n",
    "        count = 0\n",
    "        while count < n_samples:\n",
    "            sess.run(opt, feed_dict = { X: xx[count], Y: yy[count]})\n",
    "            count += 1\n",
    "            \n",
    "        if i % display_epoch == 0:\n",
    "            print(\"Epoch: \",i, \"Weight:\", w.eval(), \"bias:\", b.eval(), \"cost\", cost.eval(feed_dict = {X:xx, Y:yy}))\n",
    "            \n",
    "    print(\"Optimization done.\")\n",
    "    print(\"Epoch: \",i, \"Weight:\", w.eval(), \"bias:\", b.eval(), \"cost\", cost.eval(feed_dict = {X:xx, Y:yy}))\n",
    "    \n",
    "    plotx = np.linspace(0, 12)\n",
    "    ploty = w * plotx + b\n",
    "    plt.plot(train_x.eval(), train_y.eval(), \"ro\", label = \"data\")\n",
    "    plt.plot(plotx, ploty.eval())\n",
    "    plt.show()"
   ]
  },
  {
   "cell_type": "code",
   "execution_count": null,
   "metadata": {},
   "outputs": [],
   "source": []
  }
 ],
 "metadata": {
  "kernelspec": {
   "display_name": "Python 3",
   "language": "python",
   "name": "python3"
  },
  "language_info": {
   "codemirror_mode": {
    "name": "ipython",
    "version": 3
   },
   "file_extension": ".py",
   "mimetype": "text/x-python",
   "name": "python",
   "nbconvert_exporter": "python",
   "pygments_lexer": "ipython3",
   "version": "3.6.3"
  }
 },
 "nbformat": 4,
 "nbformat_minor": 2
}
