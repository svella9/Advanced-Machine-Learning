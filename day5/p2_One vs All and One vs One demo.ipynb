{
 "cells": [
  {
   "cell_type": "code",
   "execution_count": 1,
   "metadata": {
    "collapsed": true
   },
   "outputs": [],
   "source": [
    "from sklearn import svm\n",
    "import numpy as np\n",
    "import csv\n",
    "import matplotlib.pyplot as plt\n"
   ]
  },
  {
   "cell_type": "code",
   "execution_count": 2,
   "metadata": {
    "collapsed": true
   },
   "outputs": [],
   "source": [
    "def make_meshgrid(x, y, h = 0.2):\n",
    "    x_min, x_max = x.min() - 1 , x.max() + 1\n",
    "    y_min, y_max = y.min() -1, y.max() + 1\n",
    "    xx, yy = np.meshgrid(np.arange(x_min, x_max, h), np.arange(y_min, y_max, h))\n",
    "    return xx, yy"
   ]
  },
  {
   "cell_type": "code",
   "execution_count": 3,
   "metadata": {
    "collapsed": true
   },
   "outputs": [],
   "source": [
    "def plot_contours(ax, clf, xx, yy, **params):\n",
    "    Z = clf.predict(np.c_[xx.ravel(), yy.ravel()])\n",
    "    Z = Z.reshape(xx.shape)\n",
    "    ax.contour(xx, yy, Z, *params)"
   ]
  },
  {
   "cell_type": "code",
   "execution_count": 7,
   "metadata": {},
   "outputs": [
    {
     "data": {
      "image/png": "[encoded data removed]",
      "text/plain": [
       "<matplotlib.figure.Figure at 0x2f5c2d3710>"
      ]
     },
     "metadata": {},
     "output_type": "display_data"
    }
   ],
   "source": [
    "data = list(csv.reader(open('multi_class_svm.csv')))\n",
    "npdata = np.array(data)\n",
    "floatdata = npdata.astype(np.float)\n",
    "\n",
    "X = np.array(list(zip(floatdata[:, 0], floatdata[:, 1])))\n",
    "Y = floatdata[:, 2]\n",
    "\n",
    "Y_1 = np.where(Y == 1, 1, -1)\n",
    "Y_2 = np.where(Y == 2, 1, -1)\n",
    "Y_3 = np.where(Y == 3, 1, -1)\n",
    "Y_4 = np.where(Y == 4, 1, -1)\n",
    "\n",
    "for i in range(len(X)):\n",
    "    if Y[i] == 1:\n",
    "        plt.plot(X[i, 0], X[i, 1], 'b+', label = 'FI')\n",
    "    elif Y[i] == 2:\n",
    "        plt.plot(X[i, 0], X[i, 1], 'rx', label = 'S')\n",
    "    elif Y[i] == 3:\n",
    "        plt.plot(X[i, 0], X[i, 1], 'g*', label = 'T')\n",
    "    else:\n",
    "        plt.plot(X[i, 0], X[i, 1], 'ro', label = 'FO')\n",
    "\n",
    "plt.show()"
   ]
  },
  {
   "cell_type": "code",
   "execution_count": 19,
   "metadata": {},
   "outputs": [
    {
     "name": "stdout",
     "output_type": "stream",
     "text": [
      "6\n",
      "6\n",
      "Class: [-1]\n",
      "Class: [-1]\n",
      "Class: [-1]\n",
      "Class: [-1]\n"
     ]
    },
    {
     "data": {
      "image/png": "[encoded data removed]",
      "text/plain": [
       "<matplotlib.figure.Figure at 0x2f5d9d6080>"
      ]
     },
     "metadata": {},
     "output_type": "display_data"
    }
   ],
   "source": [
    "Y_list = [Y_1, Y_2, Y_3, Y_4]\n",
    "a = float(input())\n",
    "b = float(input())\n",
    "\n",
    "######################################\n",
    "#       One vs ALL                  #\n",
    "#####################################\n",
    "for i in range(4):\n",
    "    clf = svm.SVC(kernel = 'linear', C = 1000)\n",
    "    clf.fit(X, Y_list[i])\n",
    "    #weight and bias of the hyperplane\n",
    "    W = clf.coef_[0]\n",
    "    bias = clf.intercept_[0]\n",
    "    xx = np.linspace(0,12)\n",
    "    yy = -bias/W[1] - xx * W[0]/W[1]\n",
    "    \n",
    "    for i in range(len(yy)):\n",
    "        if yy[i] < 0:\n",
    "            yy[i] = 0\n",
    "        elif yy[i] > 14:\n",
    "            yy[i] = 14\n",
    "    \n",
    "    for i in range(len(X)):\n",
    "        if Y[i] == 1:\n",
    "            plt.plot(X[i, 0], X[i, 1], 'b+', label = 'FI')\n",
    "        elif Y[i] == 2:\n",
    "            plt.plot(X[i, 0], X[i, 1], 'rx', label = 'S')\n",
    "        elif Y[i] == 3:\n",
    "            plt.plot(X[i, 0], X[i, 1], 'g*', label = 'T')\n",
    "        else:\n",
    "            plt.plot(X[i, 0], X[i, 1], 'ro', label = 'FO')\n",
    "\n",
    "    result = clf.predict([[a, b]])\n",
    "    print('One vs ALL')\n",
    "    print(\"Class:\", result)\n",
    "\n",
    "    plt.plot(xx, yy, color = \"red\")\n",
    "plt.show()"
   ]
  },
  {
   "cell_type": "code",
   "execution_count": 23,
   "metadata": {},
   "outputs": [
    {
     "name": "stdout",
     "output_type": "stream",
     "text": [
      "One vs One Prediction [ 2.]\n"
     ]
    }
   ],
   "source": [
    "#########################\n",
    "#       One vs One      #\n",
    "#########################\n",
    "#By default SVC uses One vs One\n",
    "clf.fit(X, Y)\n",
    "print('One vs One Prediction', clf.predict([[a, b]]))\n",
    "#class1 vs class2 -> class2\n",
    "#class1 vs 3 -> class1\n",
    "#class1 vs 4 -> class4\n",
    "#class2 vs class4-> class2\n",
    "#class3 vs class4 -> class2\n",
    "#argmax = class2"
   ]
  },
  {
   "cell_type": "code",
   "execution_count": null,
   "metadata": {
    "collapsed": true
   },
   "outputs": [],
   "source": []
  }
 ],
 "metadata": {
  "kernelspec": {
   "display_name": "Python 3",
   "language": "python",
   "name": "python3"
  },
  "language_info": {
   "codemirror_mode": {
    "name": "ipython",
    "version": 3
   },
   "file_extension": ".py",
   "mimetype": "text/x-python",
   "name": "python",
   "nbconvert_exporter": "python",
   "pygments_lexer": "ipython3",
   "version": "3.6.3"
  }
 },
 "nbformat": 4,
 "nbformat_minor": 2
}
