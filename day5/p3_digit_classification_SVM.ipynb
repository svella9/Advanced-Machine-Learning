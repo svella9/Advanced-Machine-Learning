{
 "cells": [
  {
   "cell_type": "code",
   "execution_count": 3,
   "metadata": {
    "collapsed": true
   },
   "outputs": [],
   "source": [
    "from sklearn import svm, datasets\n",
    "import numpy as np\n",
    "import csv\n",
    "import matplotlib.pyplot as plt\n"
   ]
  },
  {
   "cell_type": "code",
   "execution_count": 15,
   "metadata": {},
   "outputs": [
    {
     "data": {
      "image/png": "[encoded data removed]",
      "text/plain": [
       "<matplotlib.figure.Figure at 0xc4345e2518>"
      ]
     },
     "metadata": {},
     "output_type": "display_data"
    }
   ],
   "source": [
    "digits = datasets.load_digits()\n",
    "#1797 images\n",
    "#each image is 8 * 8\n",
    "plt.imshow(digits.images[9], cmap = plt.cm.gray_r, interpolation = 'nearest')\n",
    "plt.show()"
   ]
  },
  {
   "cell_type": "code",
   "execution_count": 16,
   "metadata": {},
   "outputs": [
    {
     "data": {
      "text/plain": [
       "SVC(C=1.0, cache_size=200, class_weight=None, coef0=0.0,\n",
       "  decision_function_shape='ovr', degree=3, gamma='auto', kernel='linear',\n",
       "  max_iter=-1, probability=False, random_state=None, shrinking=True,\n",
       "  tol=0.001, verbose=False)"
      ]
     },
     "execution_count": 16,
     "metadata": {},
     "output_type": "execute_result"
    }
   ],
   "source": [
    "clf = svm.SVC(kernel = 'linear')\n",
    "#Training set\n",
    "x, y = digits.data[0: 1777], digits.target[:-20]\n",
    "clf.fit(x, y)"
   ]
  },
  {
   "cell_type": "code",
   "execution_count": 21,
   "metadata": {},
   "outputs": [
    {
     "name": "stdout",
     "output_type": "stream",
     "text": [
      "Testing\n",
      "Actual: 4 predict: [4]\n",
      "Actual: 4 predict: [4]\n",
      "Actual: 7 predict: [7]\n",
      "Actual: 2 predict: [2]\n",
      "Actual: 8 predict: [8]\n",
      "Actual: 2 predict: [2]\n",
      "Actual: 2 predict: [2]\n",
      "Actual: 5 predict: [5]\n",
      "Actual: 7 predict: [7]\n",
      "Actual: 9 predict: [9]\n",
      "Actual: 5 predict: [5]\n",
      "Actual: 4 predict: [4]\n",
      "Actual: 8 predict: [8]\n",
      "Actual: 8 predict: [8]\n",
      "Actual: 4 predict: [4]\n",
      "Actual: 9 predict: [9]\n",
      "Actual: 0 predict: [0]\n",
      "Actual: 8 predict: [8]\n",
      "Actual: 9 predict: [9]\n",
      "Actual: 8 predict: [8]\n"
     ]
    }
   ],
   "source": [
    "#Test set\n",
    "test_x, test_y = digits.data[1777: ], digits.target[-20:]\n",
    "print('Testing')\n",
    "for i in range(len(test_x)):\n",
    "    pred = clf.predict([test_x[i]])\n",
    "    print('Actual:', test_y[i], 'predict:', pred)"
   ]
  },
  {
   "cell_type": "code",
   "execution_count": 23,
   "metadata": {},
   "outputs": [
    {
     "name": "stdout",
     "output_type": "stream",
     "text": [
      "Enter an index185\n",
      "Data for that index was: \n",
      " [  0.   0.   0.   2.   9.  13.   6.   0.   0.   0.  11.  15.   8.   9.  10.\n",
      "   0.   0.   3.  16.  10.   4.  13.   5.   0.   0.   1.  15.  16.  15.  15.\n",
      "   7.   0.   0.   0.   0.   0.   1.  14.   1.   0.   0.   0.   0.   0.  11.\n",
      "   6.   0.   0.   0.   0.   0.   1.  13.   0.   0.   0.   0.   0.   0.   5.\n",
      "   4.   0.   0.   0.]\n",
      "Actual target was:  9\n",
      "The prediction is: [9]\n"
     ]
    },
    {
     "data": {
      "image/png": "[encoded data removed]",
      "text/plain": [
       "<matplotlib.figure.Figure at 0xc43322cc50>"
      ]
     },
     "metadata": {},
     "output_type": "display_data"
    }
   ],
   "source": [
    "inp = int(input('Enter an index'))\n",
    "print('Data for that index was: \\n', digits.data[-inp])\n",
    "print('Actual target was: ', digits.target[-inp])\n",
    "\n",
    "print('The prediction is:', clf.predict([digits.data[-inp]]))\n",
    "plt.imshow(digits.images[-inp], cmap = plt.cm.gray_r, interpolation = 'nearest')\n",
    "plt.show()"
   ]
  },
  {
   "cell_type": "code",
   "execution_count": null,
   "metadata": {
    "collapsed": true
   },
   "outputs": [],
   "source": []
  }
 ],
 "metadata": {
  "kernelspec": {
   "display_name": "Python 3",
   "language": "python",
   "name": "python3"
  },
  "language_info": {
   "codemirror_mode": {
    "name": "ipython",
    "version": 3
   },
   "file_extension": ".py",
   "mimetype": "text/x-python",
   "name": "python",
   "nbconvert_exporter": "python",
   "pygments_lexer": "ipython3",
   "version": "3.6.3"
  }
 },
 "nbformat": 4,
 "nbformat_minor": 2
}
