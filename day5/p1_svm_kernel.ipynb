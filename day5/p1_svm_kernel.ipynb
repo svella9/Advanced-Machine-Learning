{
 "cells": [
  {
   "cell_type": "code",
   "execution_count": 1,
   "metadata": {},
   "outputs": [],
   "source": [
    "from sklearn import svm\n",
    "import numpy as np\n",
    "import csv\n",
    "import matplotlib.pyplot as plt\n"
   ]
  },
  {
   "cell_type": "code",
   "execution_count": 2,
   "metadata": {
    "collapsed": true
   },
   "outputs": [],
   "source": [
    "def make_meshgrid(x, y, h = 0.2):\n",
    "    x_min, x_max = x.min() - 1 , x.max() + 1\n",
    "    y_min, y_max = y.min() -1, y.max() + 1\n",
    "    xx, yy = np.meshgrid(np.arange(x_min, x_max, h), np.arange(y_min, y_max, h))\n",
    "    return xx, yy"
   ]
  },
  {
   "cell_type": "code",
   "execution_count": 3,
   "metadata": {
    "collapsed": true
   },
   "outputs": [],
   "source": [
    "def plot_contours(ax, clf, xx, yy, **params):\n",
    "    Z = clf.predict(np.c_[xx.ravel(), yy.ravel()])\n",
    "    Z = Z.reshape(xx.shape)\n",
    "    ax.contour(xx, yy, Z, *params)"
   ]
  },
  {
   "cell_type": "code",
   "execution_count": 5,
   "metadata": {},
   "outputs": [
    {
     "data": {
      "image/png": "[encoded data removed]",
      "text/plain": [
       "<matplotlib.figure.Figure at 0x578846a080>"
      ]
     },
     "metadata": {},
     "output_type": "display_data"
    }
   ],
   "source": [
    "data = list(csv.reader(open('svm_data_kernel.csv')))\n",
    "npdata = np.array(data)\n",
    "floatdata = npdata.astype(np.float)\n",
    "#train_x = tf.constant(floatdata[:, 0:2])\n",
    "#train_y = tf.constant(floatdata[:,2])\n",
    "\n",
    "X = floatdata[:, 0:2]\n",
    "Y = floatdata[:, 2]\n",
    "for i in range(len(X)):\n",
    "    if Y[i] == 1:\n",
    "        plt.plot(X[i,0], X[i,1], 'b+', label = \"POS\")\n",
    "    else:\n",
    "        plt.plot(X[i,0], X[i,1], 'rx', label = \"NEG\")\n",
    "\n",
    "#plt.legend()\n",
    "plt.show()"
   ]
  },
  {
   "cell_type": "code",
   "execution_count": 45,
   "metadata": {},
   "outputs": [
    {
     "data": {
      "text/plain": [
       "SVC(C=2, cache_size=200, class_weight=None, coef0=0.0,\n",
       "  decision_function_shape='ovr', degree=3, gamma='auto', kernel='rbf',\n",
       "  max_iter=-1, probability=False, random_state=None, shrinking=True,\n",
       "  tol=0.001, verbose=False)"
      ]
     },
     "execution_count": 45,
     "metadata": {},
     "output_type": "execute_result"
    }
   ],
   "source": [
    "#find the optimal plane\n",
    "clf = svm.SVC(kernel = 'rbf', C = 2)\n",
    "#find the plane\n",
    "clf.fit(X, Y)\n",
    "\n",
    "#weight and bias of the hyperplane\n",
    "#W = clf.coef_[0]\n",
    "#bias = clf.intercept_[0]\n",
    "#xx = np.linspace(0,12)\n",
    "#from the eqn: w1x1 + w2x2 + b = 0\n",
    "#therefore , x2 = -b/w2 - x1*w1/w2\n",
    "#yy = -bias/W[1] - xx * W[0]/W[1] "
   ]
  },
  {
   "cell_type": "code",
   "execution_count": 46,
   "metadata": {},
   "outputs": [],
   "source": [
    "for i in range(len(X)):\n",
    "    if Y[i] == 1:\n",
    "        plt.plot(X[i,0], X[i,1], 'b+', label = \"POS\")\n",
    "    else:\n",
    "        plt.plot(X[i,0], X[i,1], 'rx', label = \"NEG\")\n"
   ]
  },
  {
   "cell_type": "code",
   "execution_count": 47,
   "metadata": {},
   "outputs": [
    {
     "name": "stdout",
     "output_type": "stream",
     "text": [
      "No. of points1\n",
      "8\n",
      "8\n",
      "Class: [-1.]\n"
     ]
    },
    {
     "data": {
      "image/png": "[encoded data removed]",
      "text/plain": [
       "<matplotlib.figure.Figure at 0x5789a1f7b8>"
      ]
     },
     "metadata": {},
     "output_type": "display_data"
    }
   ],
   "source": [
    "#Lets predict the class of few co-ordinates\n",
    "n = int(input(\"No. of points\"))\n",
    "while n > 0:\n",
    "    a = float(input())\n",
    "    b = float(input())\n",
    "\n",
    "    result = clf.predict([[a, b]])\n",
    "    print(\"Class:\", result)\n",
    "    xx, yy = make_meshgrid(X[:, 0], X[:, 1])\n",
    "    for i in range(len(X)):\n",
    "        if Y[i] == 1:\n",
    "            plt.plot(X[i,0], X[i,1], 'b+', label = \"POS\")\n",
    "        else:\n",
    "            plt.plot(X[i,0], X[i,1], 'rx', label = \"NEG\")\n",
    "    \n",
    "    plot_contours(plt, clf, xx, yy)\n",
    "    plt.show()\n",
    "    n -= 1"
   ]
  },
  {
   "cell_type": "code",
   "execution_count": null,
   "metadata": {
    "collapsed": true
   },
   "outputs": [],
   "source": []
  }
 ],
 "metadata": {
  "kernelspec": {
   "display_name": "Python 3",
   "language": "python",
   "name": "python3"
  },
  "language_info": {
   "codemirror_mode": {
    "name": "ipython",
    "version": 3
   },
   "file_extension": ".py",
   "mimetype": "text/x-python",
   "name": "python",
   "nbconvert_exporter": "python",
   "pygments_lexer": "ipython3",
   "version": "3.6.3"
  }
 },
 "nbformat": 4,
 "nbformat_minor": 2
}
