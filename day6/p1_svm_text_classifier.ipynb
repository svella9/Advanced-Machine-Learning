{
 "cells": [
  {
   "cell_type": "code",
   "execution_count": 1,
   "metadata": {
    "collapsed": true
   },
   "outputs": [],
   "source": [
    "import csv\n",
    "import numpy as np\n",
    "from sklearn import svm\n",
    "from sklearn.feature_extraction.text import CountVectorizer\n",
    "from sklearn.feature_extraction.text import TfidfTransformer"
   ]
  },
  {
   "cell_type": "code",
   "execution_count": 2,
   "metadata": {
    "collapsed": true
   },
   "outputs": [],
   "source": [
    "data = np.array(list(csv.reader(open('spam.csv'))))\n",
    "act_target = data[:,0]\n",
    "text = data[:, 1]\n"
   ]
  },
  {
   "cell_type": "code",
   "execution_count": 7,
   "metadata": {},
   "outputs": [
    {
     "name": "stdout",
     "output_type": "stream",
     "text": [
      "['2005', '21st', 'comp', 'cup', 'entry', 'fa', 'final', 'free', 'in', 'its', 'may', 'name', 'rofl', 'tkts', 'to', 'true', 'win', 'wkly']\n",
      "  (0, 0)\t1\n",
      "  (0, 10)\t1\n",
      "  (0, 1)\t1\n",
      "  (0, 13)\t1\n",
      "  (0, 6)\t1\n",
      "  (0, 3)\t1\n",
      "  (0, 5)\t1\n",
      "  (0, 16)\t1\n",
      "  (0, 14)\t1\n",
      "  (0, 2)\t1\n",
      "  (0, 17)\t1\n",
      "  (0, 8)\t1\n",
      "  (0, 4)\t1\n",
      "  (0, 7)\t1\n",
      "  (1, 11)\t1\n",
      "  (1, 15)\t1\n",
      "  (1, 9)\t2\n",
      "  (1, 12)\t1\n",
      "  (1, 14)\t1\n"
     ]
    }
   ],
   "source": [
    "spam_t = np.where(act_target == 'spam', 1, -1)\n",
    "\n",
    "count_vect = CountVectorizer()\n",
    "X_train_counts = count_vect.fit_transform(text)\n",
    "print(count_vect.get_feature_names())\n",
    "print(X_train_counts)"
   ]
  },
  {
   "cell_type": "code",
   "execution_count": 4,
   "metadata": {},
   "outputs": [
    {
     "name": "stdout",
     "output_type": "stream",
     "text": [
      "  (0, 7)\t0.272102608304\n",
      "  (0, 4)\t0.272102608304\n",
      "  (0, 8)\t0.272102608304\n",
      "  (0, 17)\t0.272102608304\n",
      "  (0, 2)\t0.272102608304\n",
      "  (0, 14)\t0.193603246879\n",
      "  (0, 16)\t0.272102608304\n",
      "  (0, 5)\t0.272102608304\n",
      "  (0, 3)\t0.272102608304\n",
      "  (0, 6)\t0.272102608304\n",
      "  (0, 13)\t0.272102608304\n",
      "  (0, 1)\t0.272102608304\n",
      "  (0, 10)\t0.272102608304\n",
      "  (0, 0)\t0.272102608304\n",
      "  (1, 14)\t0.25969799324\n",
      "  (1, 12)\t0.364996468145\n",
      "  (1, 9)\t0.72999293629\n",
      "  (1, 15)\t0.364996468145\n",
      "  (1, 11)\t0.364996468145\n"
     ]
    }
   ],
   "source": [
    "tfid_transformer = TfidfTransformer()\n",
    "X_train_tfidf = tfid_transformer.fit_transform(X_train_counts)\n",
    "print(X_train_tfidf)"
   ]
  },
  {
   "cell_type": "code",
   "execution_count": 9,
   "metadata": {},
   "outputs": [
    {
     "data": {
      "text/plain": [
       "SVC(C=1.0, cache_size=200, class_weight=None, coef0=0.0,\n",
       "  decision_function_shape='ovr', degree=3, gamma='auto', kernel='linear',\n",
       "  max_iter=-1, probability=False, random_state=None, shrinking=True,\n",
       "  tol=0.001, verbose=False)"
      ]
     },
     "execution_count": 9,
     "metadata": {},
     "output_type": "execute_result"
    }
   ],
   "source": [
    "clf = svm.SVC(kernel = 'linear')\n",
    "clf.fit(X_train_tfidf, spam_t)"
   ]
  },
  {
   "cell_type": "code",
   "execution_count": 17,
   "metadata": {},
   "outputs": [
    {
     "name": "stdout",
     "output_type": "stream",
     "text": [
      "Text Fogg is going on ...Classification spam\n",
      "Text Free Nokia Camcorder delivery today ...Classification spam\n",
      "Text What else is going on ...Classification spam\n"
     ]
    }
   ],
   "source": [
    "#New instance\n",
    "test_text = ['Fogg is going on', 'Free Nokia Camcorder delivery today', 'What else is going on']\n",
    "X_new_counts = count_vect.transform(test_text)\n",
    "X_new_tfidf = tfid_transformer.transform(X_new_counts)\n",
    "\n",
    "predicted = clf.predict(X_new_tfidf)\n",
    "for i in range(3):\n",
    "    print('Text', test_text[i], '...Classification', \"spam\" if predicted[i] == 1 else \"Ham\")"
   ]
  },
  {
   "cell_type": "code",
   "execution_count": null,
   "metadata": {
    "collapsed": true
   },
   "outputs": [],
   "source": []
  }
 ],
 "metadata": {
  "kernelspec": {
   "display_name": "Python 3",
   "language": "python",
   "name": "python3"
  },
  "language_info": {
   "codemirror_mode": {
    "name": "ipython",
    "version": 3
   },
   "file_extension": ".py",
   "mimetype": "text/x-python",
   "name": "python",
   "nbconvert_exporter": "python",
   "pygments_lexer": "ipython3",
   "version": "3.6.3"
  }
 },
 "nbformat": 4,
 "nbformat_minor": 2
}
