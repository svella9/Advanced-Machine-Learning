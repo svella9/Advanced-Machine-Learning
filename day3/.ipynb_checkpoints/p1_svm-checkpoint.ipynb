{
 "cells": [
  {
   "cell_type": "code",
   "execution_count": 1,
   "metadata": {
    "collapsed": true
   },
   "outputs": [],
   "source": [
    "from sklearn import svm\n",
    "import numpy as np\n",
    "import csv\n",
    "import matplotlib.pyplot as plt\n"
   ]
  },
  {
   "cell_type": "code",
   "execution_count": 2,
   "metadata": {},
   "outputs": [
    {
     "data": {
      "image/png": "[encoded data removed]",
      "text/plain": [
       "<matplotlib.figure.Figure at 0x57d40c8be0>"
      ]
     },
     "metadata": {},
     "output_type": "display_data"
    }
   ],
   "source": [
    "data = list(csv.reader(open('svm_data.csv')))\n",
    "npdata = np.array(data)\n",
    "floatdata = npdata.astype(np.float)\n",
    "#train_x = tf.constant(floatdata[:, 0:2])\n",
    "#train_y = tf.constant(floatdata[:,2])\n",
    "\n",
    "X = floatdata[:, 0:2]\n",
    "Y = floatdata[:, 2]\n",
    "for i in range(len(X)):\n",
    "    if Y[i] == 1:\n",
    "        plt.plot(X[i,0], X[i,1], 'b+', label = \"POS\")\n",
    "    else:\n",
    "        plt.plot(X[i,0], X[i,1], 'rx', label = \"NEG\")\n",
    "\n",
    "#plt.legend()\n",
    "plt.show()"
   ]
  },
  {
   "cell_type": "code",
   "execution_count": 3,
   "metadata": {
    "collapsed": true
   },
   "outputs": [],
   "source": [
    "#find the optimal plane\n",
    "clf = svm.SVC(kernel = 'linear')\n",
    "#find the plane\n",
    "clf.fit(X, Y)\n",
    "\n",
    "#weight and bias of the hyperplane\n",
    "W = clf.coef_[0]\n",
    "bias = clf.intercept_[0]\n",
    "xx = np.linspace(0,12)\n",
    "#from the eqn: w1x1 + w2x2 + b = 0\n",
    "#therefore , x2 = -b/w2 - x1*w1/w2\n",
    "yy = -bias/W[1] - xx * W[0]/W[1] "
   ]
  },
  {
   "cell_type": "code",
   "execution_count": 4,
   "metadata": {},
   "outputs": [
    {
     "data": {
      "image/png": "[encoded data removed]",
      "text/plain": [
       "<matplotlib.figure.Figure at 0x57d40c8710>"
      ]
     },
     "metadata": {},
     "output_type": "display_data"
    }
   ],
   "source": [
    "for i in range(len(X)):\n",
    "    if Y[i] == 1:\n",
    "        plt.plot(X[i,0], X[i,1], 'b+', label = \"POS\")\n",
    "    else:\n",
    "        plt.plot(X[i,0], X[i,1], 'rx', label = \"NEG\")\n",
    "\n",
    "plt.plot(xx, yy, color = \"red\")\n",
    "#plt.legend()\n",
    "plt.show()\n",
    "\n",
    "#Red line: Separating Hyperplane"
   ]
  },
  {
   "cell_type": "code",
   "execution_count": 9,
   "metadata": {},
   "outputs": [
    {
     "name": "stdout",
     "output_type": "stream",
     "text": [
      "No. of points2\n",
      "4\n",
      "5\n",
      "Class: [-1.]\n"
     ]
    },
    {
     "data": {
      "image/png": "[encoded data removed]",
      "text/plain": [
       "<matplotlib.figure.Figure at 0x57d57eb588>"
      ]
     },
     "metadata": {},
     "output_type": "display_data"
    },
    {
     "name": "stdout",
     "output_type": "stream",
     "text": [
      "9\n",
      "6\n",
      "Class: [ 1.]\n"
     ]
    },
    {
     "data": {
      "image/png": "[encoded data removed]",
      "text/plain": [
       "<matplotlib.figure.Figure at 0x57d58b9b70>"
      ]
     },
     "metadata": {},
     "output_type": "display_data"
    }
   ],
   "source": [
    "#Lets predict the class of few co-ordinates\n",
    "n = int(input(\"No. of points\"))\n",
    "while n > 0:\n",
    "    a = int(input())\n",
    "    b = int(input())\n",
    "\n",
    "    result = clf.predict([[a, b]])\n",
    "    print(\"Class:\", result)\n",
    "\n",
    "    for i in range(len(X)):\n",
    "        if Y[i] == 1:\n",
    "            plt.plot(X[i,0], X[i,1], 'b+', label = \"POS\")\n",
    "        else:\n",
    "            plt.plot(X[i,0], X[i,1], 'rx', label = \"NEG\")\n",
    "\n",
    "    plt.plot(xx, yy, color = \"red\")\n",
    "    #plt.legend()\n",
    "    plt.plot(a, b, 'yo', label = \"predicted\")\n",
    "    plt.show()\n",
    "\n",
    "    n -= 1"
   ]
  },
  {
   "cell_type": "code",
   "execution_count": null,
   "metadata": {
    "collapsed": true
   },
   "outputs": [],
   "source": []
  }
 ],
 "metadata": {
  "kernelspec": {
   "display_name": "Python 3",
   "language": "python",
   "name": "python3"
  },
  "language_info": {
   "codemirror_mode": {
    "name": "ipython",
    "version": 3
   },
   "file_extension": ".py",
   "mimetype": "text/x-python",
   "name": "python",
   "nbconvert_exporter": "python",
   "pygments_lexer": "ipython3",
   "version": "3.6.3"
  }
 },
 "nbformat": 4,
 "nbformat_minor": 2
}
