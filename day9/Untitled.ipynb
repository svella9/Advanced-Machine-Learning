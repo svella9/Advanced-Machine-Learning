{
 "cells": [
  {
   "cell_type": "code",
   "execution_count": 1,
   "metadata": {},
   "outputs": [
    {
     "name": "stderr",
     "output_type": "stream",
     "text": [
      "C:\\Users\\KNatarajan\\Anaconda3\\envs\\tensorflow\\lib\\site-packages\\h5py\\__init__.py:36: FutureWarning: Conversion of the second argument of issubdtype from `float` to `np.floating` is deprecated. In future, it will be treated as `np.float64 == np.dtype(float).type`.\n",
      "  from ._conv import register_converters as _register_converters\n",
      "Using TensorFlow backend.\n"
     ]
    }
   ],
   "source": [
    "from sklearn.model_selection import train_test_split\n",
    "from keras.models import Sequential\n",
    "from keras.layers import Conv2D, MaxPooling2D, Dense, Dropout, Flatten\n",
    "from keras.layers.advanced_activations import LeakyReLU\n",
    "import keras.losses\n",
    "from keras.datasets import fashion_mnist\n",
    "import os\n",
    "import numpy as np"
   ]
  },
  {
   "cell_type": "code",
   "execution_count": 2,
   "metadata": {},
   "outputs": [],
   "source": [
    "(train_X, train_Y), (test_X, test_Y) = fashion_mnist.load_data()"
   ]
  },
  {
   "cell_type": "code",
   "execution_count": 3,
   "metadata": {},
   "outputs": [
    {
     "name": "stdout",
     "output_type": "stream",
     "text": [
      "Training data shape:  (60000, 28, 28) (60000,)\n",
      "Testing data shape:  (10000, 28, 28) (10000,)\n",
      "Total number of outputs: 10\n",
      "Output classes: [0 1 2 3 4 5 6 7 8 9]\n"
     ]
    }
   ],
   "source": [
    "print('Training data shape: ', train_X.shape, train_Y.shape)\n",
    "print('Testing data shape: ', test_X.shape, test_Y.shape)\n",
    "\n",
    "classes = np.unique(train_Y)\n",
    "nClasses = len(classes)\n",
    "print('Total number of outputs:', nClasses)\n",
    "print('Output classes:', classes)"
   ]
  },
  {
   "cell_type": "code",
   "execution_count": 4,
   "metadata": {},
   "outputs": [
    {
     "data": {
      "text/plain": [
       "<matplotlib.figure.Figure at 0x54665f04a8>"
      ]
     },
     "metadata": {},
     "output_type": "display_data"
    }
   ],
   "source": [
    "import matplotlib.pyplot as plt\n",
    "plt.imshow(train_X[1512], cmap = 'gray')\n",
    "plt.title('Classes: {}'.format(train_Y[0]))\n",
    "plt.show()"
   ]
  },
  {
   "cell_type": "code",
   "execution_count": 5,
   "metadata": {},
   "outputs": [],
   "source": [
    "train_X = train_X.reshape(-1, 28, 28, 1)\n",
    "test_X = test_X.reshape(-1, 28, 28, 1)"
   ]
  },
  {
   "cell_type": "code",
   "execution_count": 6,
   "metadata": {},
   "outputs": [],
   "source": [
    "#convert into float and normalize\n",
    "train_X = train_X.astype('float32')\n",
    "test_X = test_X.astype('float32')\n",
    "train_X = train_X / 255\n",
    "test_X = test_X / 255"
   ]
  },
  {
   "cell_type": "code",
   "execution_count": 7,
   "metadata": {},
   "outputs": [],
   "source": [
    "train_Y_one_hot = keras.utils.to_categorical(train_Y)\n",
    "test_Y_one_hot = keras.utils.to_categorical(test_Y)"
   ]
  },
  {
   "cell_type": "code",
   "execution_count": 8,
   "metadata": {},
   "outputs": [],
   "source": [
    "train_X, valid_X, train_label, valid_label = train_test_split(train_X, train_Y_one_hot, test_size = 0.2)"
   ]
  },
  {
   "cell_type": "code",
   "execution_count": 9,
   "metadata": {},
   "outputs": [],
   "source": [
    "batch_size = 64\n",
    "epochs = 20\n",
    "num_classes = 10"
   ]
  },
  {
   "cell_type": "code",
   "execution_count": 10,
   "metadata": {},
   "outputs": [
    {
     "name": "stdout",
     "output_type": "stream",
     "text": [
      "_________________________________________________________________\n",
      "Layer (type)                 Output Shape              Param #   \n",
      "=================================================================\n",
      "conv2d_1 (Conv2D)            (None, 28, 28, 8)         80        \n",
      "_________________________________________________________________\n",
      "leaky_re_lu_1 (LeakyReLU)    (None, 28, 28, 8)         0         \n",
      "_________________________________________________________________\n",
      "max_pooling2d_1 (MaxPooling2 (None, 14, 14, 8)         0         \n",
      "_________________________________________________________________\n",
      "conv2d_2 (Conv2D)            (None, 14, 14, 16)        1168      \n",
      "_________________________________________________________________\n",
      "leaky_re_lu_2 (LeakyReLU)    (None, 14, 14, 16)        0         \n",
      "_________________________________________________________________\n",
      "max_pooling2d_2 (MaxPooling2 (None, 7, 7, 16)          0         \n",
      "_________________________________________________________________\n",
      "conv2d_3 (Conv2D)            (None, 7, 7, 32)          4640      \n",
      "_________________________________________________________________\n",
      "leaky_re_lu_3 (LeakyReLU)    (None, 7, 7, 32)          0         \n",
      "_________________________________________________________________\n",
      "max_pooling2d_3 (MaxPooling2 (None, 4, 4, 32)          0         \n",
      "_________________________________________________________________\n",
      "flatten_1 (Flatten)          (None, 512)               0         \n",
      "_________________________________________________________________\n",
      "dense_1 (Dense)              (None, 128)               65664     \n",
      "_________________________________________________________________\n",
      "leaky_re_lu_4 (LeakyReLU)    (None, 128)               0         \n",
      "_________________________________________________________________\n",
      "dense_2 (Dense)              (None, 10)                1290      \n",
      "=================================================================\n",
      "Total params: 72,842\n",
      "Trainable params: 72,842\n",
      "Non-trainable params: 0\n",
      "_________________________________________________________________\n",
      "Train on 48000 samples, validate on 12000 samples\n",
      "Epoch 1/20\n",
      "48000/48000 [==============================] - 62s 1ms/step - loss: 0.5590 - acc: 0.7949 - val_loss: 0.3943 - val_acc: 0.8621\n",
      "Epoch 2/20\n",
      "48000/48000 [==============================] - 92s 2ms/step - loss: 0.3584 - acc: 0.8694 - val_loss: 0.3599 - val_acc: 0.8729\n",
      "Epoch 3/20\n",
      "48000/48000 [==============================] - 93s 2ms/step - loss: 0.3090 - acc: 0.8871 - val_loss: 0.3139 - val_acc: 0.8898\n",
      "Epoch 4/20\n",
      "48000/48000 [==============================] - 92s 2ms/step - loss: 0.2794 - acc: 0.8968 - val_loss: 0.2839 - val_acc: 0.8973\n",
      "Epoch 5/20\n",
      "48000/48000 [==============================] - 92s 2ms/step - loss: 0.2619 - acc: 0.9026 - val_loss: 0.3099 - val_acc: 0.8847\n",
      "Epoch 6/20\n",
      "48000/48000 [==============================] - 93s 2ms/step - loss: 0.2414 - acc: 0.9106 - val_loss: 0.2859 - val_acc: 0.8990\n",
      "Epoch 7/20\n",
      "48000/48000 [==============================] - 85s 2ms/step - loss: 0.2294 - acc: 0.9135 - val_loss: 0.2725 - val_acc: 0.8998\n",
      "Epoch 8/20\n",
      "48000/48000 [==============================] - 86s 2ms/step - loss: 0.2140 - acc: 0.9212 - val_loss: 0.2665 - val_acc: 0.9034\n",
      "Epoch 9/20\n",
      "48000/48000 [==============================] - 82s 2ms/step - loss: 0.2038 - acc: 0.9231 - val_loss: 0.2706 - val_acc: 0.9013\n",
      "Epoch 10/20\n",
      "48000/48000 [==============================] - 59s 1ms/step - loss: 0.1928 - acc: 0.9277 - val_loss: 0.2487 - val_acc: 0.9114\n",
      "Epoch 11/20\n",
      "48000/48000 [==============================] - 80s 2ms/step - loss: 0.1823 - acc: 0.9314 - val_loss: 0.2624 - val_acc: 0.9100\n",
      "Epoch 12/20\n",
      "48000/48000 [==============================] - 92s 2ms/step - loss: 0.1742 - acc: 0.9348 - val_loss: 0.2707 - val_acc: 0.9058\n",
      "Epoch 13/20\n",
      "48000/48000 [==============================] - 92s 2ms/step - loss: 0.1629 - acc: 0.9379 - val_loss: 0.2833 - val_acc: 0.9019\n",
      "Epoch 14/20\n",
      "48000/48000 [==============================] - 90s 2ms/step - loss: 0.1555 - acc: 0.9403 - val_loss: 0.2578 - val_acc: 0.9107\n",
      "Epoch 15/20\n",
      "48000/48000 [==============================] - 91s 2ms/step - loss: 0.1475 - acc: 0.9437 - val_loss: 0.2690 - val_acc: 0.9119\n",
      "Epoch 16/20\n",
      "48000/48000 [==============================] - 91s 2ms/step - loss: 0.1390 - acc: 0.9475 - val_loss: 0.2678 - val_acc: 0.9087\n",
      "Epoch 17/20\n",
      "48000/48000 [==============================] - 91s 2ms/step - loss: 0.1313 - acc: 0.9498 - val_loss: 0.2623 - val_acc: 0.9102\n",
      "Epoch 18/20\n",
      "48000/48000 [==============================] - 92s 2ms/step - loss: 0.1238 - acc: 0.9537 - val_loss: 0.2707 - val_acc: 0.9127\n",
      "Epoch 19/20\n",
      "48000/48000 [==============================] - 91s 2ms/step - loss: 0.1182 - acc: 0.9548 - val_loss: 0.2668 - val_acc: 0.9130\n",
      "Epoch 20/20\n",
      "48000/48000 [==============================] - 91s 2ms/step - loss: 0.1084 - acc: 0.9594 - val_loss: 0.2864 - val_acc: 0.9151\n"
     ]
    }
   ],
   "source": [
    "fashion_model = Sequential()\n",
    "fashion_model.add(Conv2D(8, kernel_size = (3,3), activation = 'linear', input_shape = (28, 28, 1), padding = 'same'))\n",
    "fashion_model.add(LeakyReLU(alpha = 0.1))\n",
    "fashion_model.add(MaxPooling2D((2, 2), padding = 'same'))\n",
    "\n",
    "fashion_model.add(Conv2D(16, kernel_size = (3,3), activation = 'linear', padding = 'same'))\n",
    "fashion_model.add(LeakyReLU(alpha = 0.1))\n",
    "fashion_model.add(MaxPooling2D((2, 2), padding = 'same'))\n",
    "\n",
    "fashion_model.add(Conv2D(32, kernel_size = (3,3), activation = 'linear', padding = 'same'))\n",
    "fashion_model.add(LeakyReLU(alpha = 0.1))\n",
    "fashion_model.add(MaxPooling2D((2, 2), padding = 'same'))\n",
    "\n",
    "fashion_model.add(Flatten())\n",
    "fashion_model.add(Dense(128, activation = 'linear'))\n",
    "fashion_model.add(LeakyReLU(alpha = 0.1))\n",
    "fashion_model.add(Dense(num_classes, activation = 'softmax'))\n",
    "fashion_model.summary()\n",
    "fashion_model.compile(loss = keras.losses.categorical_crossentropy, optimizer = keras.optimizers.Adam(), metrics = ['accuracy'])\n",
    "fashion_train = fashion_model.fit(train_X, train_label, batch_size = batch_size, epochs = epochs, verbose = 1, validation_data = (valid_X, valid_label))\n"
   ]
  },
  {
   "cell_type": "code",
   "execution_count": 11,
   "metadata": {},
   "outputs": [
    {
     "name": "stdout",
     "output_type": "stream",
     "text": [
      "10000/10000 [==============================] - 5s 501us/step\n"
     ]
    },
    {
     "data": {
      "text/plain": [
       "[0.3127288449704647, 0.9082]"
      ]
     },
     "execution_count": 11,
     "metadata": {},
     "output_type": "execute_result"
    }
   ],
   "source": [
    "#Test the model\n",
    "test_eval = fashion_model.evaluate(test_X, test_Y_one_hot, verbose = 1)\n",
    "test_eval"
   ]
  },
  {
   "cell_type": "code",
   "execution_count": 12,
   "metadata": {},
   "outputs": [
    {
     "data": {
      "image/png": "[encoded data removed]",
      "text/plain": [
       "<matplotlib.figure.Figure at 0x540093d048>"
      ]
     },
     "metadata": {},
     "output_type": "display_data"
    }
   ],
   "source": [
    "plt.plot(fashion_train.history['acc'])\n",
    "plt.plot(fashion_train.history['val_acc'])\n",
    "plt.title('model accuracy')\n",
    "plt.ylabel('accuracy')\n",
    "plt.xlabel('epoch')\n",
    "plt.legend(['train', 'test'], loc = 'upper left')\n",
    "plt.show()"
   ]
  },
  {
   "cell_type": "code",
   "execution_count": 13,
   "metadata": {},
   "outputs": [
    {
     "data": {
      "image/png": "[encoded data removed]",
      "text/plain": [
       "<matplotlib.figure.Figure at 0x5400e60c50>"
      ]
     },
     "metadata": {},
     "output_type": "display_data"
    }
   ],
   "source": [
    "plt.plot(fashion_train.history['loss'])\n",
    "plt.plot(fashion_train.history['val_loss'])\n",
    "plt.title('model loss')\n",
    "plt.ylabel('loss')\n",
    "plt.xlabel('epoch')\n",
    "plt.legend(['train', 'test'], loc = 'upper left')\n",
    "plt.show()"
   ]
  },
  {
   "cell_type": "code",
   "execution_count": null,
   "metadata": {},
   "outputs": [],
   "source": []
  }
 ],
 "metadata": {
  "kernelspec": {
   "display_name": "Python 3",
   "language": "python",
   "name": "python3"
  },
  "language_info": {
   "codemirror_mode": {
    "name": "ipython",
    "version": 3
   },
   "file_extension": ".py",
   "mimetype": "text/x-python",
   "name": "python",
   "nbconvert_exporter": "python",
   "pygments_lexer": "ipython3",
   "version": "3.6.3"
  }
 },
 "nbformat": 4,
 "nbformat_minor": 2
}
